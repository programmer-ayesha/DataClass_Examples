{
  "cells": [
    {
      "cell_type": "code",
      "execution_count": null,
      "metadata": {
        "colab": {
          "base_uri": "https://localhost:8080/"
        },
        "id": "eA7Uiweh9I9A",
        "outputId": "7146d564-4341-4455-fc4a-8fd9dcac1696"
      },
      "outputs": [
        {
          "name": "stdout",
          "output_type": "stream",
          "text": [
            "Ali\n",
            "29\n",
            "Ali likes to eat Pizza\n",
            "Emma likes to eat Hot Dogs\n"
          ]
        }
      ],
      "source": [
        "from dataclasses import dataclass\n",
        "from typing import ClassVar\n",
        "\n",
        "@dataclass\n",
        "class American:\n",
        "    name: str            # object-level data\n",
        "    age: int             # object-level data\n",
        "    liked_food: str      # object-level data\n",
        "    country_language: ClassVar[str] = \"English\"   # class-level data\n",
        "    national_food: ClassVar[str] = \"Burger\"       # class-level data\n",
        "\n",
        "    # Instance method - works with object data\n",
        "    def speak(self):\n",
        "        return f\"{self.name} is speaking {self.country_language}\"\n",
        "\n",
        "    def eat(self):\n",
        "        return f\"{self.name} likes to eat {self.liked_food}\"\n",
        "\n",
        "    # Static method - can only read class data\n",
        "    @staticmethod\n",
        "    def language():\n",
        "        return f\"Americans speak {American.country_language}\"\n",
        "\n",
        "    # Class method - can read and modify class-level data\n",
        "    @classmethod\n",
        "    def change_language(cls, new_lang):\n",
        "        cls.country_language = new_lang\n",
        "\n",
        "    # Class method - changes the national food for all Americans\n",
        "    @classmethod\n",
        "    def change_national_food(cls, new_food):\n",
        "        cls.national_food = new_food\n"
      ]
    },
    {
      "cell_type": "code",
      "execution_count": null,
      "metadata": {
        "id": "nDby_1-z_uZO"
      },
      "outputs": [],
      "source": [
        "# Creating object\n",
        "john = American(name=\"Ali\", age=29, liked_food=\"Pizza\")\n",
        "emma = American(name=\"Emma\", age=25, liked_food=\"Hot Dogs\")"
      ]
    },
    {
      "cell_type": "code",
      "execution_count": null,
      "metadata": {
        "colab": {
          "base_uri": "https://localhost:8080/"
        },
        "id": "kKLQWoqF_nHQ",
        "outputId": "f209e0da-6d06-4a09-e008-944e1ffb0dfc"
      },
      "outputs": [
        {
          "name": "stdout",
          "output_type": "stream",
          "text": [
            "Ali\n",
            "29\n",
            "Ali likes to eat Pizza\n",
            "Emma likes to eat Hot Dogs\n"
          ]
        }
      ],
      "source": [
        "# Object-level data\n",
        "print(john.name)              # Ali\n",
        "print(john.age)               # 29\n",
        "print(john.eat())             # Ali likes to eat Pizza\n",
        "\n",
        "print(emma.eat())             # Emma likes to eat Hot Dogs"
      ]
    },
    {
      "cell_type": "code",
      "execution_count": null,
      "metadata": {
        "colab": {
          "base_uri": "https://localhost:8080/"
        },
        "id": "6epC33Yl9fsN",
        "outputId": "2827c796-59bd-4027-f9ef-c7e2070da768"
      },
      "outputs": [
        {
          "name": "stdout",
          "output_type": "stream",
          "text": [
            "English\n",
            "Burger\n"
          ]
        }
      ],
      "source": [
        "# Class-level data\n",
        "print(American.country_language)   # English\n",
        "print(American.national_food)      # Burger"
      ]
    },
    {
      "cell_type": "code",
      "execution_count": null,
      "metadata": {
        "colab": {
          "base_uri": "https://localhost:8080/"
        },
        "id": "8x7i6kRi9ZtW",
        "outputId": "7da8a949-96cf-4add-bb24-b9b183d35dfe"
      },
      "outputs": [
        {
          "name": "stdout",
          "output_type": "stream",
          "text": [
            "Americans speak English\n"
          ]
        }
      ],
      "source": [
        "# Using static method to read class data\n",
        "print(American.language())         # Americans speak English"
      ]
    },
    {
      "cell_type": "code",
      "execution_count": null,
      "metadata": {
        "id": "BT1PaXny9VSR"
      },
      "outputs": [],
      "source": [
        "# Modify class-level data\n",
        "American.change_language(\"Spanish\")\n",
        "American.change_national_food(\"Tacos\")"
      ]
    },
    {
      "cell_type": "code",
      "execution_count": null,
      "metadata": {
        "colab": {
          "base_uri": "https://localhost:8080/"
        },
        "id": "Xk2cV7Ko9UQs",
        "outputId": "eaa08707-e0c5-41f9-d0a5-b56e4775e412"
      },
      "outputs": [
        {
          "name": "stdout",
          "output_type": "stream",
          "text": [
            "Ali is speaking Spanish\n",
            "Tacos\n"
          ]
        }
      ],
      "source": [
        "# After changing national food\n",
        "print(john.speak())                # Ali is speaking Spanish\n",
        "print(American.national_food)      # Tacos"
      ]
    },
    {
      "cell_type": "code",
      "execution_count": null,
      "metadata": {
        "id": "KMJvjXqYAv2l"
      },
      "outputs": [],
      "source": [
        "@dataclass\n",
        "class Human:\n",
        "  name:str\n",
        "  age:int\n",
        "\n",
        "  def greet(self):\n",
        "    return f\"Hello, my name is {self.name} and I am {self.age} years old.\"\n",
        "\n",
        "  def work(self):\n",
        "    return f\"i am working\"\n",
        "\n",
        "  def __call__(self):\n",
        "    return f\"Hello\""
      ]
    },
    {
      "cell_type": "code",
      "execution_count": null,
      "metadata": {
        "colab": {
          "base_uri": "https://localhost:8080/"
        },
        "id": "9WKvTc7iBKHh",
        "outputId": "63cc56b6-1a20-4893-b5f9-32f0e5f53723"
      },
      "outputs": [
        {
          "name": "stdout",
          "output_type": "stream",
          "text": [
            "Alice\n",
            "29\n",
            "Hello, my name is Alice and I am 29 years old.\n",
            "i am working\n"
          ]
        }
      ],
      "source": [
        "obj1 = Human(name=\"Alice\" , age=29)\n",
        "print(obj1.name)\n",
        "print(obj1.age)\n",
        "\n",
        "print(obj1.greet())\n",
        "print(obj1.work())"
      ]
    },
    {
      "cell_type": "code",
      "execution_count": null,
      "metadata": {
        "colab": {
          "base_uri": "https://localhost:8080/",
          "height": 141
        },
        "id": "8dawTyYmCkjZ",
        "outputId": "08de3f99-3eeb-4dda-8e1c-2ae63e531999"
      },
      "outputs": [
        {
          "ename": "TypeError",
          "evalue": "'Human' object is not callable",
          "output_type": "error",
          "traceback": [
            "\u001b[0;31m---------------------------------------------------------------------------\u001b[0m",
            "\u001b[0;31mTypeError\u001b[0m                                 Traceback (most recent call last)",
            "\u001b[0;32m<ipython-input-34-1288370025>\u001b[0m in \u001b[0;36m<cell line: 0>\u001b[0;34m()\u001b[0m\n\u001b[0;32m----> 1\u001b[0;31m \u001b[0mobj1\u001b[0m\u001b[0;34m(\u001b[0m\u001b[0;34m)\u001b[0m\u001b[0;34m\u001b[0m\u001b[0;34m\u001b[0m\u001b[0m\n\u001b[0m",
            "\u001b[0;31mTypeError\u001b[0m: 'Human' object is not callable"
          ]
        }
      ],
      "source": [
        "obj1()"
      ]
    },
    {
      "cell_type": "code",
      "execution_count": null,
      "metadata": {
        "colab": {
          "base_uri": "https://localhost:8080/",
          "height": 35
        },
        "id": "J50_hq1pCIQu",
        "outputId": "d9de4445-8307-4101-e68d-f4cd13d2b7d8"
      },
      "outputs": [
        {
          "data": {
            "application/vnd.google.colaboratory.intrinsic+json": {
              "type": "string"
            },
            "text/plain": [
              "'Hello'"
            ]
          },
          "execution_count": 38,
          "metadata": {},
          "output_type": "execute_result"
        }
      ],
      "source": [
        "obj1()"
      ]
    },
    {
      "cell_type": "code",
      "execution_count": null,
      "metadata": {
        "colab": {
          "base_uri": "https://localhost:8080/"
        },
        "id": "RaIYBxSoXbrE",
        "outputId": "a90a69ba-5fdc-4acf-9935-cbe09239519c"
      },
      "outputs": [
        {
          "output_type": "stream",
          "name": "stdout",
          "text": [
            "=== Good Data Class Example ===\n",
            "person1: Person(name='Alice', age=29, email='alice@gmail.com', tags=['software engineer'])\n",
            "person2: Person(name='Bob', age=17, email=None, tags=[])\n",
            "person3: Person(name='Charles', age=30, email=None, tags=['developer', 'engineer'])\n",
            "Alice is adult? True\n",
            "Bob is adult? False\n",
            "Charles is adult? True\n",
            "\n",
            "=== BAD REGULAR CLASS EXAMPLES ===\n",
            "PersonBad 1: PersonBad(name=Alice, age=30, email=alice@example.com, tags=[])\n",
            "PersonBad 2: PersonBad(name=Bob, age=25, email=None, tags=[])\n"
          ]
        }
      ],
      "source": [
        "# Importing dataclass and field from dataclasses module\n",
        "from dataclasses import dataclass, field\n",
        "\n",
        "# Creating a class using @dataclass decorator to avoid writing boilerplate code\n",
        "@dataclass\n",
        "class Person:\n",
        "    name: str\n",
        "    age: int\n",
        "    email: str | None = None  # Optional email; can be None\n",
        "    tags: list[str] = field(default_factory=list)\n",
        "    # We use default_factory=list instead of tags = [] because:\n",
        "    # In Python, lists are mutable. If you use [], all instances share the same list in memory (bad!).\n",
        "    # default_factory creates a new, separate list for each object (good!).\n",
        "\n",
        "    def is_adult(self) -> bool:\n",
        "        return self.age >= 18  # Check if the person is 18 or older\n",
        "\n",
        "\n",
        "def demo_good_usage():\n",
        "    # Creating 3 people\n",
        "    person1 = Person(name=\"Alice\", age=29, email=\"alice@gmail.com\")\n",
        "    person2 = Person(name=\"Bob\", age=17)\n",
        "    person3 = Person(name=\"Charles\", age=30, tags=[\"developer\", \"engineer\"])\n",
        "\n",
        "    person1.tags.append(\"software engineer\")  # Add tag for person1\n",
        "\n",
        "    # Print all person data\n",
        "    print(\"person1:\", person1)\n",
        "    print(\"person2:\", person2)\n",
        "    print(\"person3:\", person3)\n",
        "\n",
        "    # Check if they are adults\n",
        "    print(f\"{person1.name} is adult? {person1.is_adult()}\")\n",
        "    print(f\"{person2.name} is adult? {person2.is_adult()}\")\n",
        "    print(f\"{person3.name} is adult? {person3.is_adult()}\")\n",
        "\n",
        "# BAD EXAMPLE: Class without dataclass\n",
        "class PersonBad:\n",
        "    def __init__(self, name, age, email=None, tags=None):\n",
        "        self.name = name\n",
        "        self.age = age\n",
        "        self.email = email\n",
        "        # Common mistake: mutable default\n",
        "        self.tags = tags if tags is not None else []\n",
        "\n",
        "    # Have to manually define string representation\n",
        "    def __repr__(self):\n",
        "        return f\"PersonBad(name={self.name}, age={self.age}, email={self.email}, tags={self.tags})\"\n",
        "\n",
        "    # Have to manually define equality\n",
        "    def __eq__(self, other):\n",
        "        if not isinstance(other, PersonBad):\n",
        "            return False\n",
        "        return (self.name == other.name and\n",
        "                self.age == other.age and\n",
        "                self.email == other.email and\n",
        "                self.tags == other.tags)\n",
        "\n",
        "\n",
        "def demo_bad_usage():\n",
        "    # More verbose and error-prone without dataclasses\n",
        "    person1 = PersonBad(\"Alice\", 30, \"alice@example.com\")\n",
        "    person2 = PersonBad(\"Bob\", 25)\n",
        "\n",
        "    print(f\"PersonBad 1: {person1}\")\n",
        "    print(f\"PersonBad 2: {person2}\")\n",
        "\n",
        "# This part makes sure demo_good_usage() only runs if this file is run directly (not imported)\n",
        "if __name__ == \"__main__\":\n",
        "    print(\"=== Good Data Class Example ===\")\n",
        "    demo_good_usage()\n",
        "\n",
        "    print(\"\\n=== BAD REGULAR CLASS EXAMPLES ===\")\n",
        "    demo_bad_usage()"
      ]
    }
  ],
  "metadata": {
    "colab": {
      "provenance": [],
      "authorship_tag": "ABX9TyN7QWSeT1MuvcO9tgC7I0fZ"
    },
    "kernelspec": {
      "display_name": "Python 3",
      "name": "python3"
    },
    "language_info": {
      "name": "python"
    }
  },
  "nbformat": 4,
  "nbformat_minor": 0
}